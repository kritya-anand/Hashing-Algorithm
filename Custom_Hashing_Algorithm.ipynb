{
  "nbformat": 4,
  "nbformat_minor": 0,
  "metadata": {
    "colab": {
      "provenance": []
    },
    "kernelspec": {
      "name": "python3",
      "display_name": "Python 3"
    },
    "language_info": {
      "name": "python"
    }
  },
  "cells": [
    {
      "cell_type": "markdown",
      "source": [
        "# **CUSTOM HASHING ALGORITHM**\n",
        "\n",
        "---\n",
        "\n"
      ],
      "metadata": {
        "id": "yjIQ4K3tpGlI"
      }
    },
    {
      "cell_type": "markdown",
      "source": [
        "## **Install required libraries**"
      ],
      "metadata": {
        "id": "uePRfdewpZv6"
      }
    },
    {
      "cell_type": "code",
      "execution_count": 35,
      "metadata": {
        "colab": {
          "base_uri": "https://localhost:8080/"
        },
        "id": "etZSd3vt_hUK",
        "outputId": "784115ff-c0c4-4810-b9ce-dd0b9a8dc396"
      },
      "outputs": [
        {
          "output_type": "stream",
          "name": "stdout",
          "text": [
            "Requirement already satisfied: bcrypt in /usr/local/lib/python3.10/dist-packages (4.2.1)\n"
          ]
        }
      ],
      "source": [
        "pip install bcrypt"
      ]
    },
    {
      "cell_type": "markdown",
      "source": [
        "## **Import required libraries**"
      ],
      "metadata": {
        "id": "tbOGNoMvqGmZ"
      }
    },
    {
      "cell_type": "code",
      "source": [
        "import pandas as pd\n",
        "import bcrypt\n",
        "\n",
        "pass_user = pd.DataFrame(columns=[\"UserName\",\"Hash\"] )"
      ],
      "metadata": {
        "id": "OnSog22IaDkb"
      },
      "execution_count": 36,
      "outputs": []
    },
    {
      "cell_type": "markdown",
      "source": [
        "## **Sign Up || Log In Prompt**"
      ],
      "metadata": {
        "id": "HL_NyU2LqQYh"
      }
    },
    {
      "cell_type": "code",
      "source": [
        "userInput = input(\"For SignUp(S) || For LogIn(L)\")\n"
      ],
      "metadata": {
        "colab": {
          "base_uri": "https://localhost:8080/"
        },
        "id": "wEBTeC5RX3Qw",
        "outputId": "9d1ff0c1-ed37-4942-b7ab-a9631171e290"
      },
      "execution_count": 39,
      "outputs": [
        {
          "name": "stdout",
          "output_type": "stream",
          "text": [
            "For SignUp(S) || For LogIn(L)L\n"
          ]
        }
      ]
    },
    {
      "cell_type": "code",
      "source": [
        "if(userInput == 'S'):\n",
        "  username = input(\"Enter your username: \")  #take username input\n",
        "  userPassword = input(\"Set Password: \")      #take password input\n",
        "  bytes = userPassword.encode('utf-8') #convert password to bytes\n",
        "  salt = bcrypt.gensalt() #salting the password\n",
        "  hash = bcrypt.hashpw(bytes, salt) #hashing the password\n",
        "  pass_user.loc[len(pass_user)] = [username,hash] # storing the password and username in dataframe\n",
        "  print(\"Account Succesfully Created!!\")\n",
        "\n",
        "elif (userInput == 'L'):  #login\n",
        "  enteredusername = input(\"Enter your username: \")  #username\n",
        "\n",
        "  if enteredusername in pass_user[\"UserName\"].values: #username exists or not\n",
        "    enteredpassword = input(\"Enter your password: \") #password\n",
        "    userBytes = enteredpassword.encode('utf-8')\n",
        "    index = pass_user.loc[pass_user['UserName'] == enteredusername].index\n",
        "    correctpassword = pass_user.loc[index, 'Hash'].iloc[0]\n",
        "    result = bcrypt.checkpw(userBytes, correctpassword) #compare stored password and entered password\n",
        "    if(result==True):\n",
        "      print(\"You are successfully logged in!!\")\n",
        "    else:\n",
        "      print(\"Incorrect Password!!\")\n",
        "\n",
        "  else:\n",
        "    print(\"User Not Found!!\")"
      ],
      "metadata": {
        "colab": {
          "base_uri": "https://localhost:8080/"
        },
        "id": "KNf-0FA4Zo5b",
        "outputId": "e51208d4-9f9a-443b-e5f1-f3b6a7da2cd2"
      },
      "execution_count": 40,
      "outputs": [
        {
          "output_type": "stream",
          "name": "stdout",
          "text": [
            "Enter your username: hitesh\n",
            "Enter your password: hites03\n",
            "Incorrect Password!!\n"
          ]
        }
      ]
    }
  ]
}